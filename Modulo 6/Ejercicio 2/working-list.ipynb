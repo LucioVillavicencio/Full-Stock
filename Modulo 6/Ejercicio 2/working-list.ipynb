{
 "cells": [
  {
   "cell_type": "markdown",
   "metadata": {},
   "source": [
    "# Trabajando con datos de una lista"
   ]
  },
  {
   "cell_type": "markdown",
   "metadata": {},
   "source": [
    "Usar slices para recuperar partes de una lista\n",
    "Es posible que debas trabajar con diferentes secciones de una lista. En nuestro ejemplo, queremos mostrar planetas más cerca y más lejos del sol de un planeta que el usuario ingresa por teclado."
   ]
  },
  {
   "cell_type": "code",
   "execution_count": 22,
   "metadata": {},
   "outputs": [
    {
     "name": "stdout",
     "output_type": "stream",
     "text": [
      "Los planetas más cercanos a Mars son:\n",
      "['Mercury', 'Venus', 'Earth']\n",
      "Los planetas más lejanos aMars son:\n",
      "['Jupiter', 'Saturn', 'Neptune']\n"
     ]
    }
   ],
   "source": [
    "# Lista de planetas\n",
    "planetas = ['Mercury', 'Venus', 'Earth', 'Mars', 'Jupiter', 'Saturn', 'Neptune']\n",
    "# Declaración de una variable donde se almacenará el planeta capturado por el usuario\n",
    "usuario_planeta = input('Capture el nombre del planeta iniciando por mayúscula')\n",
    "# Busqueda del planeta en la lista\n",
    "indice_planeta = planetas.index(usuario_planeta)\n",
    "# Muestra los planetas más cercanos al sol\n",
    "print('Los planetas más cercanos a ' + usuario_planeta, 'son:')\n",
    "print(planetas[0:indice_planeta])\n",
    "# Muestra los planetas más lejanos al sol\n",
    "print('Los planetas más lejanos a' + usuario_planeta, 'son:')\n",
    "print(planetas[indice_planeta + 1:])"
   ]
  }
 ],
 "metadata": {
  "interpreter": {
   "hash": "6e7773653bded01caeccfec8df51f08c6580e4f2a4b84a617ac3fda2ad0b616b"
  },
  "kernelspec": {
   "display_name": "Python 3.10.2 64-bit",
   "language": "python",
   "name": "python3"
  },
  "language_info": {
   "codemirror_mode": {
    "name": "ipython",
    "version": 3
   },
   "file_extension": ".py",
   "mimetype": "text/x-python",
   "name": "python",
   "nbconvert_exporter": "python",
   "pygments_lexer": "ipython3",
   "version": "3.10.2"
  },
  "orig_nbformat": 4
 },
 "nbformat": 4,
 "nbformat_minor": 2
}
