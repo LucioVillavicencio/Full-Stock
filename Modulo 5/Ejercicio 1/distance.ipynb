{
 "cells": [
  {
   "cell_type": "markdown",
   "metadata": {},
   "source": [
    "# Utilizar operadores aritméticos"
   ]
  },
  {
   "cell_type": "markdown",
   "metadata": {},
   "source": [
    "Crear un programa que pueda calcular la distancia entre dos planetas. Comenzaremos usando dos distancias de planetas: Tierra (149.597.870 km) y Júpiter (778.547.200 km)."
   ]
  },
  {
   "cell_type": "code",
   "execution_count": 4,
   "metadata": {},
   "outputs": [
    {
     "name": "stdout",
     "output_type": "stream",
     "text": [
      "La distancia entre los dos planetas es de:  628949330 kms\n",
      "La distancia entre los dos planetas es de:  390577534 millas\n"
     ]
    }
   ],
   "source": [
    "#Declaración y asignación de las dos variables\n",
    "distance1= 778547200\n",
    "distance2= 149597870\n",
    "#Diferencia entre los dos planetas\n",
    "total = distance1-distance2\n",
    "#Impresión de la distancia en kilómetros\n",
    "print(\"La distancia entre los dos planetas es de: \",total, \"kms\")\n",
    "#Transformación de kilómetros a millas\n",
    "millas = total * 0.621\n",
    "#Impresión de la distancia en millas\n",
    "print(\"La distancia entre los dos planetas es de: \",round(millas), \"millas\")"
   ]
  }
 ],
 "metadata": {
  "interpreter": {
   "hash": "6e7773653bded01caeccfec8df51f08c6580e4f2a4b84a617ac3fda2ad0b616b"
  },
  "kernelspec": {
   "display_name": "Python 3.10.2 64-bit",
   "language": "python",
   "name": "python3"
  },
  "language_info": {
   "codemirror_mode": {
    "name": "ipython",
    "version": 3
   },
   "file_extension": ".py",
   "mimetype": "text/x-python",
   "name": "python",
   "nbconvert_exporter": "python",
   "pygments_lexer": "ipython3",
   "version": "3.10.2"
  },
  "orig_nbformat": 4
 },
 "nbformat": 4,
 "nbformat_minor": 2
}
