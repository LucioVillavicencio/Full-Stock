{
 "cells": [
  {
   "cell_type": "markdown",
   "metadata": {},
   "source": [
    "# Uso de funciones en Python"
   ]
  },
  {
   "cell_type": "markdown",
   "metadata": {},
   "source": [
    "Los argumentos requeridos en las funciones se utilizan cuando las funciones necesitan que esos argumentos funcionen correctamente. En este ejercicio, construirás un informe de combustible que requiere información de varias ubicaciones de combustible en todo el cohete.\n",
    "\n",
    "Comienza por crear una función que necesite tres lecturas de combustible y devuelva un informe:\n",
    "\n",
    "Ahora que hemos definido la función de informes, vamos a comprobarlo. Para esta misión, los tanques no están llenos:\n",
    "\n",
    "En lugar de simplemente crear el informe, la función también está calculando el promedio. Mejora la legibilidad extrayendo el cálculo promedio de la función en una nueva función para que el promedio se pueda hacer de forma independiente:\n",
    "\n",
    "Ahora actualiza la función de informes para llamando a la nueva función del promedio:"
   ]
  },
  {
   "cell_type": "code",
   "execution_count": 5,
   "metadata": {},
   "outputs": [
    {
     "name": "stdout",
     "output_type": "stream",
     "text": [
      "Reporte:\n",
      "    Promedio: 76.66666666666667%\n",
      "    Tanque 1: 60%\n",
      "    Tanque 2: 80%\n",
      "    Tanque 3: 90% \n",
      "    \n",
      "Reporte Completo:\n",
      "    Total Average: 80.66666666666667%\n",
      "    Tanque 1: 88%\n",
      "    Tanque 2: 59%\n",
      "    Tanque 3: 95% \n",
      "    \n"
     ]
    }
   ],
   "source": [
    "# Función promedio de 3 tanques\n",
    "def funcion(tanque1, tanque2, tanque3):\n",
    "    promedio = (tanque1 + tanque2 + tanque3) / 3\n",
    "    return f\"\"\"Reporte:\n",
    "    Promedio: {promedio}%\n",
    "    Tanque 1: {tanque1}%\n",
    "    Tanque 2: {tanque2}%\n",
    "    Tanque 3: {tanque3}% \n",
    "    \"\"\"\n",
    "# Impresión del promedio \n",
    "print(funcion(60, 80, 90))\n",
    "# Función promedio \n",
    "def promedio(values):\n",
    "    total = sum(values)\n",
    "    number_of_items = len(values)\n",
    "    return total / number_of_items\n",
    "promedio([20, 55, 91]) \n",
    "# Actualiza la función\n",
    "def generate_report(tanque1, tanque2, tanque3):\n",
    "    return f\"\"\"Reporte Completo:\n",
    "    Total Average: {promedio([tanque1, tanque2, tanque3])}%\n",
    "    Tanque 1: {tanque1}%\n",
    "    Tanque 2: {tanque2}%\n",
    "    Tanque 3: {tanque3}% \n",
    "    \"\"\"\n",
    "# Impresión de la nueva función promedio\n",
    "print(generate_report(88, 59, 95))"
   ]
  }
 ],
 "metadata": {
  "interpreter": {
   "hash": "6e7773653bded01caeccfec8df51f08c6580e4f2a4b84a617ac3fda2ad0b616b"
  },
  "kernelspec": {
   "display_name": "Python 3.10.2 64-bit",
   "language": "python",
   "name": "python3"
  },
  "language_info": {
   "codemirror_mode": {
    "name": "ipython",
    "version": 3
   },
   "file_extension": ".py",
   "mimetype": "text/x-python",
   "name": "python",
   "nbconvert_exporter": "python",
   "pygments_lexer": "ipython3",
   "version": "3.10.2"
  },
  "orig_nbformat": 4
 },
 "nbformat": 4,
 "nbformat_minor": 2
}
