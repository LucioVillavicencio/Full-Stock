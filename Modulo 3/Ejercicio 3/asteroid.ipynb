{
 "cells": [
  {
   "cell_type": "markdown",
   "metadata": {},
   "source": [
    "# Uso de operadores and y or"
   ]
  },
  {
   "cell_type": "markdown",
   "metadata": {},
   "source": [
    "En este ejercicio, aprenderás información más matizada sobre cuándo los asteroides representan un peligro para la Tierra, y utilizarás esa información para mejorar nuestro sistema de advertencia. Aquí está la nueva información que necesitas saber:\n",
    "*Los asteroides de menos de 25 metros en su dimensión más grande probablemente se quemarán a medida que entren en la atmósfera de la Tierra.\n",
    "\n",
    "Si una pieza de un asteroide que es más grande que 25 metros pero más pequeña que 1000 metros golpeara la Tierra, causaría mucho daño.\n",
    "También discutimos en el ejercicio anterior que:\n",
    "\n",
    "La velocidad del asteroide varía en función de lo cerca que esté del sol, y cualquier velocidad superior a 25 kilómetros por segundo (km/s) merece una advertencia.\n",
    "Si un asteroide entra en la atmósfera de la Tierra a una velocidad mayor o igual a 20 km/s, a veces produce un rayo de luz que se puede ver desde la Tierra.\n",
    "Usando toda esta información, escribe un programa que emita la advertencia o información correcta a la gente de la Tierra, según la velocidad y el tamaño de un asteroide. Utiliza instrucciones if, else, y elif, así como los operadores and y or."
   ]
  },
  {
   "cell_type": "code",
   "execution_count": 1,
   "metadata": {},
   "outputs": [
    {
     "name": "stdout",
     "output_type": "stream",
     "text": [
      "¡Mira hay una luz generada por un asteroide!\n"
     ]
    }
   ],
   "source": [
    "#Declaración y asignación de un valor de la velocidad del asteroide\n",
    "velocidad_asteroide = 25\n",
    "#Declaración y asignación de un valor del tamaño del asteroide\n",
    "tamano_asteroide = 40\n",
    "#Evalua si la velocidad del asteroide es mayor a 25 y el tamaño es mayor a 25\n",
    "if velocidad_asteroide > 25 and tamano_asteroide >25:\n",
    "    print (\"¡Cuidado un asteroide peligroso se acerca a la Tierra!\")\n",
    "#Evalua si la velocidad del asteroide es mayor o igual a 20\n",
    "elif velocidad_asteroide >= 20:\n",
    "    print (\"¡Mira hay una luz generada por un asteroide!\")\n",
    "#Evalua si el tamaño del asteroide es menor a 25\n",
    "elif tamano_asteroide <25:\n",
    "    print (\"No hay nada interesante en el cielo\")\n",
    "else:\n",
    "    print (\"No hay nada interesante en el cielo\")"
   ]
  }
 ],
 "metadata": {
  "interpreter": {
   "hash": "6e7773653bded01caeccfec8df51f08c6580e4f2a4b84a617ac3fda2ad0b616b"
  },
  "kernelspec": {
   "display_name": "Python 3.10.2 64-bit",
   "language": "python",
   "name": "python3"
  },
  "language_info": {
   "codemirror_mode": {
    "name": "ipython",
    "version": 3
   },
   "file_extension": ".py",
   "mimetype": "text/x-python",
   "name": "python",
   "nbconvert_exporter": "python",
   "pygments_lexer": "ipython3",
   "version": "3.10.2"
  },
  "orig_nbformat": 4
 },
 "nbformat": 4,
 "nbformat_minor": 2
}
