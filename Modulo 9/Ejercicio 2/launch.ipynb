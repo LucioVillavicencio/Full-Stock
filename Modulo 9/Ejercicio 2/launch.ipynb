{
 "cells": [
  {
   "cell_type": "markdown",
   "metadata": {},
   "source": [
    "# Trabajo con argumentos de palabra clave"
   ]
  },
  {
   "cell_type": "markdown",
   "metadata": {},
   "source": [
    "En este ejercicio, construirás un informe de cohete que requiere varias piezas de información, como el tiempo hasta el destino, el combustible a la izquierda y el nombre del destino. Comienza por crear una función que creará un informe preciso de la misión:\n",
    "\n",
    "La función es problemática porque no se puede adaptar para minutos adicionales o tanques adicionales de combustible. Hazlo más flexible permitiendo cualquier número de pasos basados en el tiempo y cualquier número de tanques. En lugar de usar *args y **kwargs, aprovecha el hecho de que puedes usar cualquier nombre que desees. Asegurate que la función sea más legible mediante el uso de nombres de variables que están asociados con las entradas, como *minutes y **fuel_reservoirs:\n",
    "\n",
    "Debido a que el combustible que queda en los tanques es específico de cada tanque, actualiza la función para usar el nombre de cada tanque en el informe:"
   ]
  },
  {
   "cell_type": "code",
   "execution_count": 13,
   "metadata": {},
   "outputs": [
    {
     "name": "stdout",
     "output_type": "stream",
     "text": [
      "\n",
      "    Misión a Luna\n",
      "    Tiempo total del viaje: 75 minutos\n",
      "    Combustible restante: 9180000 galones\n",
      "    \n",
      "\n",
      "    Misión a Luna\n",
      "    Tiempo total del viaje: 74 minutos\n",
      "    Combustible restante: 9180000 galones\n",
      "    \n",
      "\n",
      "    Misión a Luna\n",
      "    Tiempo total del viaje: 74 minutos\n",
      "    Combustible restante: 9180000 galones\n",
      "    Tanque principal --> 8450000 galones restantes \n",
      "Tanque externo --> 730000 galones restantes \n",
      "\n"
     ]
    }
   ],
   "source": [
    "# Función con un informe preciso de la misión. Considera hora de prelanzamiento, tiempo de vuelo, destino, tanque externo y tanque interno\n",
    "\n",
    "def mission_report(prelanzamiento, tiempodevuelo, destino, tanqueexterno, tanqueinterno):\n",
    "    return f\"\"\"\n",
    "    Misión a {destino}\n",
    "    Tiempo total del viaje: {prelanzamiento + tiempodevuelo} minutos\n",
    "    Combustible restante: {tanqueexterno + tanqueinterno} galones\n",
    "    \"\"\"\n",
    "print(mission_report(15, 60, \"Luna\", 730000, 8450000))\n",
    "# Escribe tu nueva función de reporte considerando lo anterior\n",
    "def mission_report(destino, *minutos, **combustible):\n",
    "    return f\"\"\"\n",
    "    Misión a {destino}\n",
    "    Tiempo total del viaje: {sum(minutos)} minutos\n",
    "    Combustible restante: {sum(combustible.values())} galones\n",
    "    \"\"\"\n",
    "print(mission_report(\"Luna\", 10, 14, 50, principal=8450000, externo=730000))\n",
    "# Escribe tu nueva función\n",
    "def mission_report(destino, *minutos, **combustible):\n",
    "    main_report = f\"\"\"\n",
    "    Misión a {destino}\n",
    "    Tiempo total del viaje: {sum(minutos)} minutos\n",
    "    Combustible restante: {sum(combustible.values())} galones\n",
    "    \"\"\"\n",
    "    for tank_name, gallons in combustible.items():\n",
    "        main_report += f\"Tanque {tank_name} --> {gallons} galones restantes \\n\"\n",
    "    return main_report\n",
    "print(mission_report(\"Luna\", 4, 25, 45, principal=8450000, externo=730000))"
   ]
  }
 ],
 "metadata": {
  "interpreter": {
   "hash": "6e7773653bded01caeccfec8df51f08c6580e4f2a4b84a617ac3fda2ad0b616b"
  },
  "kernelspec": {
   "display_name": "Python 3.10.2 64-bit",
   "language": "python",
   "name": "python3"
  },
  "language_info": {
   "codemirror_mode": {
    "name": "ipython",
    "version": 3
   },
   "file_extension": ".py",
   "mimetype": "text/x-python",
   "name": "python",
   "nbconvert_exporter": "python",
   "pygments_lexer": "ipython3",
   "version": "3.10.2"
  },
  "orig_nbformat": 4
 },
 "nbformat": 4,
 "nbformat_minor": 2
}
