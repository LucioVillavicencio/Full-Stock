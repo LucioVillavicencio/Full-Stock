{
 "cells": [
  {
   "cell_type": "markdown",
   "metadata": {},
   "source": [
    "# Escribir declaraciones if, else, y elif"
   ]
  },
  {
   "cell_type": "markdown",
   "metadata": {},
   "source": [
    "Si un asteroide entra en la atmósfera de la Tierra a una velocidad mayor o igual a 20 km/s, a veces produce un rayo de luz que se puede ver desde la Tierra. Escribe la lógica condicional que usa declaraciones if, else, y elif para alertar a las personas de todo el mundo que deben buscar un asteroide en el cielo. ¡Hay uno que se dirige a la tierra ahora a una velocidad de 19 km/s!"
   ]
  },
  {
   "cell_type": "code",
   "execution_count": 1,
   "metadata": {},
   "outputs": [
    {
     "name": "stdout",
     "output_type": "stream",
     "text": [
      "No hay nada interesante en el cielo\n"
     ]
    }
   ],
   "source": [
    "#Declaración y asignación de un valor de la velocidad del asteroide\n",
    "asteroid = 19\n",
    "#Evalua si la velocidad del asteroide es mayor a 20\n",
    "if asteroid > 20:\n",
    "    print (\"¡Mira hay una luz generada por un asteroide!\")\n",
    "#Evalua si la velocidad del asteroide es igual a 20\n",
    "elif asteroid == 20:\n",
    "    print (\"¡Mira hay una luz generada por un asteroide!\")\n",
    "else:\n",
    "    print (\"No hay nada interesante en el cielo\")"
   ]
  }
 ],
 "metadata": {
  "interpreter": {
   "hash": "6e7773653bded01caeccfec8df51f08c6580e4f2a4b84a617ac3fda2ad0b616b"
  },
  "kernelspec": {
   "display_name": "Python 3.10.2 64-bit",
   "language": "python",
   "name": "python3"
  },
  "language_info": {
   "codemirror_mode": {
    "name": "ipython",
    "version": 3
   },
   "file_extension": ".py",
   "mimetype": "text/x-python",
   "name": "python",
   "nbconvert_exporter": "python",
   "pygments_lexer": "ipython3",
   "version": "3.10.2"
  },
  "orig_nbformat": 4
 },
 "nbformat": 4,
 "nbformat_minor": 2
}
