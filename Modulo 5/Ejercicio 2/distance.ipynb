{
 "cells": [
  {
   "cell_type": "markdown",
   "metadata": {},
   "source": [
    "# Convierte cadenas en números y usa valores absolutos"
   ]
  },
  {
   "cell_type": "markdown",
   "metadata": {},
   "source": [
    "Queremos leer la distancia del sol para dos planetas, y luego mostrar la distancia entre los planetas. Haremos esto usando input para leer los valores, int para convertir a entero y luego abs para convertir el resultado en su valor absoluto."
   ]
  },
  {
   "cell_type": "code",
   "execution_count": 4,
   "metadata": {},
   "outputs": [
    {
     "name": "stdout",
     "output_type": "stream",
     "text": [
      "La sistancia entre los dos planetas es de:  50300000 kms\n",
      "La sistancia entre los dos planetas es de:  31236300.0 millas\n"
     ]
    }
   ],
   "source": [
    "#Declaración de las variables donde se almacenarán los datos capturados por el usuario\n",
    "planeta1 = input('Capture la distancia con el sol del primer planeta en KM')\n",
    "planeta2 = input('Capture la distancia con el sol del segundo planeta en KM')\n",
    "planeta1 = int(planeta1)\n",
    "planeta2 = int(planeta2)\n",
    "#Diferencia entre los dos planetas\n",
    "distancia = planeta2 - planeta1\n",
    "print(\"La sistancia entre los dos planetas es de: \",distancia, \"kms\")\n",
    "millas = distancia * 0.621\n",
    "print(\"La sistancia entre los dos planetas es de: \",abs(millas), \"millas\")"
   ]
  }
 ],
 "metadata": {
  "interpreter": {
   "hash": "6e7773653bded01caeccfec8df51f08c6580e4f2a4b84a617ac3fda2ad0b616b"
  },
  "kernelspec": {
   "display_name": "Python 3.10.2 64-bit",
   "language": "python",
   "name": "python3"
  },
  "language_info": {
   "codemirror_mode": {
    "name": "ipython",
    "version": 3
   },
   "file_extension": ".py",
   "mimetype": "text/x-python",
   "name": "python",
   "nbconvert_exporter": "python",
   "pygments_lexer": "ipython3",
   "version": "3.10.2"
  },
  "orig_nbformat": 4
 },
 "nbformat": 4,
 "nbformat_minor": 2
}
